{
 "cells": [
  {
   "cell_type": "markdown",
   "metadata": {},
   "source": [
    "Importaciones"
   ]
  },
  {
   "cell_type": "code",
   "execution_count": 57,
   "metadata": {},
   "outputs": [],
   "source": [
    "import pandas as pd\n",
    "import numpy as np\n",
    "from sklearn.model_selection import train_test_split\n",
    "import requests\n",
    "from sklearn.dummy import DummyClassifier\n",
    "from plotnine import *\n",
    "from sklearn.preprocessing import StandardScaler\n",
    "from sklearn.ensemble import RandomForestClassifier, HistGradientBoostingClassifier\n",
    "from sklearn.linear_model import LogisticRegression\n",
    "from sklearn.model_selection import train_test_split\n",
    "from sklearn.metrics import accuracy_score, classification_report, confusion_matrix\n",
    "import gradio as gr\n",
    "import pickle"
   ]
  },
  {
   "cell_type": "markdown",
   "metadata": {},
   "source": [
    "API Token"
   ]
  },
  {
   "cell_type": "code",
   "execution_count": 58,
   "metadata": {},
   "outputs": [],
   "source": [
    "api = \"d073f379a0e94969beb4956bda52ef0f\"\n",
    "headers = {\"X-Auth-Token\": api}"
   ]
  },
  {
   "cell_type": "markdown",
   "metadata": {},
   "source": [
    "Obtengo todos los datos"
   ]
  },
  {
   "cell_type": "code",
   "execution_count": 59,
   "metadata": {},
   "outputs": [],
   "source": [
    "df = pd.DataFrame()\n",
    "for year in range(2022, 2025):\n",
    "    url = f'https://api.football-data.org/v4/competitions/PD/matches?season={year}'\n",
    "\n",
    "    response = requests.get(url, headers=headers)\n",
    "    data = response.json()\n",
    "\n",
    "    matches = data[\"matches\"]\n",
    "    df_season = pd.DataFrame(matches)\n",
    "    df = pd.concat([df, df_season], ignore_index=True)"
   ]
  },
  {
   "cell_type": "markdown",
   "metadata": {},
   "source": [
    "Formateando columna 'season'"
   ]
  },
  {
   "cell_type": "code",
   "execution_count": 60,
   "metadata": {},
   "outputs": [],
   "source": [
    "df['startDate'] = df['season'].apply(lambda x: x['startDate'])\n",
    "df['endDate'] = df['season'].apply(lambda x: x['endDate'])\n",
    "\n",
    "df['startDate'] = pd.to_datetime(df['startDate'])\n",
    "df['endDate'] = pd.to_datetime(df['endDate'])\n",
    "df['season'] = df['startDate'].dt.year.astype(str) + '/' + df['endDate'].dt.year.astype(str).str[-2:]"
   ]
  },
  {
   "cell_type": "markdown",
   "metadata": {},
   "source": [
    "Formateando columnas 'awayTeam' y 'homeTeam'"
   ]
  },
  {
   "cell_type": "code",
   "execution_count": 61,
   "metadata": {},
   "outputs": [],
   "source": [
    "df['homeTeam'] = df['homeTeam'].apply(lambda x: x['name'])\n",
    "df['awayTeam'] = df['awayTeam'].apply(lambda x: x['name'])"
   ]
  },
  {
   "cell_type": "markdown",
   "metadata": {},
   "source": [
    "Formateando columna 'score' y añadiendo columnas de goles de local y visitante, resultado media parte y resultado final"
   ]
  },
  {
   "cell_type": "code",
   "execution_count": 62,
   "metadata": {},
   "outputs": [],
   "source": [
    "df['homeGoalsFullTime'] = df['score'].apply(lambda x: x['fullTime']).apply(lambda x: x[\"home\"])\n",
    "df['awayGoalsFullTime'] = df['score'].apply(lambda x: x['fullTime']).apply(lambda x: x[\"away\"])\n",
    "\n",
    "df['homeGoalsHalfTime'] = df['score'].apply(lambda x: x['halfTime']).apply(lambda x: x[\"home\"])\n",
    "df['awayGoalsHalfTime'] = df['score'].apply(lambda x: x['halfTime']).apply(lambda x: x[\"away\"])"
   ]
  },
  {
   "cell_type": "markdown",
   "metadata": {},
   "source": [
    "Formateando columna 'referees'"
   ]
  },
  {
   "cell_type": "code",
   "execution_count": 63,
   "metadata": {},
   "outputs": [],
   "source": [
    "df[\"referees\"] = df['referees'].apply(lambda x: x[0]['name'] if isinstance(x, list) and len(x) > 0 else None)"
   ]
  },
  {
   "cell_type": "markdown",
   "metadata": {},
   "source": [
    "Eliminando columnas irrelevantes"
   ]
  },
  {
   "cell_type": "code",
   "execution_count": 64,
   "metadata": {},
   "outputs": [],
   "source": [
    "df = df.drop([\"startDate\", \"endDate\", \"competition\", \"area\", \"odds\", \"id\", \"utcDate\", \"stage\", \"group\", \"lastUpdated\", \"score\"], axis=1)"
   ]
  },
  {
   "cell_type": "markdown",
   "metadata": {},
   "source": [
    "Feature Engineering"
   ]
  },
  {
   "cell_type": "code",
   "execution_count": 65,
   "metadata": {},
   "outputs": [
    {
     "name": "stderr",
     "output_type": "stream",
     "text": [
      "C:\\Users\\Edu\\AppData\\Local\\Temp\\ipykernel_17480\\3168769328.py:62: RuntimeWarning: invalid value encountered in scalar divide\n",
      "C:\\Users\\Edu\\AppData\\Local\\Temp\\ipykernel_17480\\3168769328.py:63: RuntimeWarning: invalid value encountered in scalar divide\n",
      "C:\\Users\\Edu\\AppData\\Local\\Temp\\ipykernel_17480\\3168769328.py:66: RuntimeWarning: divide by zero encountered in scalar divide\n",
      "C:\\Users\\Edu\\AppData\\Local\\Temp\\ipykernel_17480\\3168769328.py:67: RuntimeWarning: divide by zero encountered in scalar divide\n",
      "C:\\Users\\Edu\\AppData\\Local\\Temp\\ipykernel_17480\\3168769328.py:70: RuntimeWarning: invalid value encountered in scalar divide\n",
      "C:\\Users\\Edu\\AppData\\Local\\Temp\\ipykernel_17480\\3168769328.py:71: RuntimeWarning: invalid value encountered in scalar divide\n",
      "C:\\Users\\Edu\\AppData\\Local\\Temp\\ipykernel_17480\\3168769328.py:74: RuntimeWarning: invalid value encountered in scalar divide\n",
      "C:\\Users\\Edu\\AppData\\Local\\Temp\\ipykernel_17480\\3168769328.py:75: RuntimeWarning: invalid value encountered in scalar divide\n"
     ]
    }
   ],
   "source": [
    "teams = df[\"homeTeam\"].unique()\n",
    "seasons = df[\"season\"].unique()\n",
    "\n",
    "for team in teams:\n",
    "    total_matches = df.loc[(df[\"awayTeam\"] == team) | (df[\"homeTeam\"] == team)]\n",
    "    total_matches_finished = total_matches.loc[total_matches[\"status\"] == \"FINISHED\"]\n",
    "    total_matches_home = total_matches_finished.loc[total_matches_finished[\"homeTeam\"] == team]\n",
    "    total_matches_away = total_matches_finished.loc[total_matches_finished[\"awayTeam\"] == team]\n",
    "    total_matches_finished_len = len(total_matches_finished)\n",
    "    wins = ((total_matches_finished[\"homeTeam\"] == team) & (total_matches_finished[\"homeGoalsFullTime\"] > total_matches_finished[\"awayGoalsFullTime\"])).sum() + \\\n",
    "           ((total_matches_finished[\"awayTeam\"] == team) & (total_matches_finished[\"awayGoalsFullTime\"] > total_matches_finished[\"homeGoalsFullTime\"])).sum()\n",
    "\n",
    "    draws = (total_matches_finished[\"homeGoalsFullTime\"] == total_matches_finished[\"awayGoalsFullTime\"]).sum()\n",
    "\n",
    "    losses = ((total_matches_finished[\"homeTeam\"] == team) & (total_matches_finished[\"homeGoalsFullTime\"] < total_matches_finished[\"awayGoalsFullTime\"])).sum() + \\\n",
    "             ((total_matches_finished[\"awayTeam\"] == team) & (total_matches_finished[\"awayGoalsFullTime\"] < total_matches_finished[\"homeGoalsFullTime\"])).sum()\n",
    "\n",
    "    df.loc[df[\"homeTeam\"] == team, \"homeTeamWins\"] = wins\n",
    "    df.loc[df[\"homeTeam\"] == team, \"homeTeamDraws\"] = draws\n",
    "    df.loc[df[\"homeTeam\"] == team, \"homeTeamLosses\"] = losses\n",
    "\n",
    "    df.loc[df[\"awayTeam\"] == team, \"awayTeamWins\"] = wins\n",
    "    df.loc[df[\"awayTeam\"] == team, \"awayTeamDraws\"] = draws\n",
    "    df.loc[df[\"awayTeam\"] == team, \"awayTeamLosses\"] = losses\n",
    "    \n",
    "    total_away_team_goals = df.loc[(df[\"awayTeam\"] == team)][\"awayGoalsFullTime\"].sum()\n",
    "    total_home_team_goals = df.loc[(df[\"homeTeam\"] == team)][\"homeGoalsFullTime\"].sum()\n",
    "    total_goals = total_away_team_goals + total_home_team_goals\n",
    "    df.loc[df[\"homeTeam\"] == team, \"totalHomeTeamGoals\"] = total_goals\n",
    "    df.loc[df[\"awayTeam\"] == team, \"totalAwayTeamGoals\"] = total_goals\n",
    "    df.loc[df[\"homeTeam\"] == team, \"homeTeamGoalRatio\"] = total_goals / total_matches_finished_len\n",
    "    df.loc[df[\"awayTeam\"] == team, \"awayTeamGoalRatio\"] = total_goals / total_matches_finished_len\n",
    "    df.loc[df[\"homeTeam\"] == team, \"totalHomeTeamGoalsAtHome\"] = total_home_team_goals\n",
    "    df.loc[df[\"awayTeam\"] == team, \"totalAwayTeamGoalsAway\"] = total_away_team_goals\n",
    "    df.loc[df[\"homeTeam\"] == team, \"homeTeamGoalRatioAtHome\"] = total_home_team_goals / len(total_matches_home)\n",
    "    df.loc[df[\"awayTeam\"] == team, \"awayTeamGoalRatioAway\"] = total_away_team_goals / len(total_matches_away)\n",
    "    total_home_team_goals_conceded = df.loc[df[\"homeTeam\"] == team][\"awayGoalsFullTime\"].sum()\n",
    "    total_away_team_goals_conceded = df.loc[df[\"awayTeam\"] == team][\"homeGoalsFullTime\"].sum()\n",
    "    total_goals_conceded = total_away_team_goals_conceded + total_home_team_goals_conceded\n",
    "    df.loc[df[\"homeTeam\"] == team, \"totalHomeTeamGoalsConceded\"] = total_goals_conceded\n",
    "    df.loc[df[\"awayTeam\"] == team, \"totalAwayTeamGoalsConceded\"] = total_goals_conceded\n",
    "    df.loc[df[\"homeTeam\"] == team, \"homeTeamGoalConcededRatio\"] = total_goals_conceded / total_matches_finished_len\n",
    "    df.loc[df[\"awayTeam\"] == team, \"awayTeamGoalConcededRatio\"] = total_goals_conceded / total_matches_finished_len\n",
    "    df.loc[df[\"homeTeam\"] == team, \"totalHomeTeamGoalsConcededAtHome\"] = total_home_team_goals_conceded\n",
    "    df.loc[df[\"awayTeam\"] == team, \"totalAwayTeamGoalsConcededAway\"] = total_away_team_goals_conceded\n",
    "    df.loc[df[\"homeTeam\"] == team, \"homeTeamGoalConcededRatioAtHome\"] = total_home_team_goals_conceded / len(total_matches_home)\n",
    "    df.loc[df[\"awayTeam\"] == team, \"awayTeamGoalConcededRatioAway\"] = total_away_team_goals_conceded / len(total_matches_away)\n",
    "\n",
    "    for season in seasons:\n",
    "        total_matches_finished_per_season = total_matches_finished.loc[total_matches_finished[\"season\"] == season]\n",
    "        total_matches_finished_per_season_len = len(total_matches_finished_per_season)\n",
    "        total_matches_home_per_season = total_matches_finished_per_season.loc[total_matches_finished_per_season[\"homeTeam\"] == team]\n",
    "        total_matches_away_per_season = total_matches_finished_per_season.loc[total_matches_finished_per_season[\"awayTeam\"] == team]\n",
    "        total_home_team_goals_per_season = df.loc[(df[\"homeTeam\"] == team) & (df[\"season\"] == season)][\"homeGoalsFullTime\"].sum()\n",
    "        total_away_team_goals_per_season = df.loc[(df[\"awayTeam\"] == team) & (df[\"season\"] == season)][\"awayGoalsFullTime\"].sum()\n",
    "        total_home_team_goals_conceded_per_season = df.loc[(df[\"homeTeam\"] == team) & (df[\"season\"] == season)][\"awayGoalsFullTime\"].sum()\n",
    "        total_away_team_goals_conceded_per_season = df.loc[(df[\"awayTeam\"] == team) & (df[\"season\"] == season)][\"homeGoalsFullTime\"].sum()\n",
    "        total_goals_per_season = total_home_team_goals_per_season + total_away_team_goals_per_season\n",
    "        total_goals_conceded_per_season = total_home_team_goals_conceded_per_season + total_away_team_goals_conceded_per_season\n",
    "        df.loc[(df[\"homeTeam\"] == team) & (df[\"season\"] == season), \"totalHomeTeamGoalsperSeason\"] = total_goals_per_season\n",
    "        df.loc[(df[\"awayTeam\"] == team) & (df[\"season\"] == season), \"totalAwayTeamGoalsperSeason\"] = total_goals_per_season\n",
    "        df.loc[(df[\"homeTeam\"] == team) & (df[\"season\"] == season), \"homeTeamGoalRatioperSeason\"] = total_goals_per_season / total_matches_finished_per_season_len\n",
    "        df.loc[(df[\"awayTeam\"] == team) & (df[\"season\"] == season), \"awayTeamGoalRatioperSeason\"] = total_goals_per_season / total_matches_finished_per_season_len\n",
    "        df.loc[(df[\"homeTeam\"] == team) & (df[\"season\"] == season), \"totalHomeTeamGoalsAtHomeperSeason\"] = total_home_team_goals_per_season\n",
    "        df.loc[(df[\"awayTeam\"] == team) & (df[\"season\"] == season), \"totalAwayTeamGoalsAwayperSeason\"] = total_away_team_goals_per_season\n",
    "        df.loc[(df[\"homeTeam\"] == team) & (df[\"season\"] == season), \"homeTeamGoalRatioAtHome\"] = total_home_team_goals / len(total_matches_home_per_season)\n",
    "        df.loc[(df[\"awayTeam\"] == team) & (df[\"season\"] == season), \"awayTeamGoalRatioAway\"] = total_away_team_goals / len(total_matches_away_per_season)\n",
    "        df.loc[(df[\"homeTeam\"] == team) & (df[\"season\"] == season), \"totalHomeTeamGoalsConcededperSeason\"] = total_goals_conceded_per_season\n",
    "        df.loc[(df[\"awayTeam\"] == team) & (df[\"season\"] == season), \"totalAwayTeamGoalsConcededperSeason\"] = total_goals_conceded_per_season\n",
    "        df.loc[(df[\"homeTeam\"] == team) & (df[\"season\"] == season), \"homeTeamGoalConcededRatioperSeason\"] = total_goals_conceded_per_season / total_matches_finished_per_season_len\n",
    "        df.loc[(df[\"awayTeam\"] == team) & (df[\"season\"] == season), \"awayTeamGoalConcededRatioperSeason\"] = total_goals_conceded_per_season / total_matches_finished_per_season_len\n",
    "        df.loc[(df[\"homeTeam\"] == team) & (df[\"season\"] == season), \"totalHomeTeamGoalsConcededAtHomeperSeason\"] = total_home_team_goals_per_season\n",
    "        df.loc[(df[\"awayTeam\"] == team) & (df[\"season\"] == season), \"totalAwayTeamGoalsConcededAwayperSeason\"] = total_away_team_goals_per_season\n",
    "        df.loc[(df[\"homeTeam\"] == team) & (df[\"season\"] == season), \"homeTeamGoalConcededRatioAtHome\"] = total_home_team_goals_conceded_per_season / len(total_matches_home_per_season)\n",
    "        df.loc[(df[\"awayTeam\"] == team) & (df[\"season\"] == season), \"awayTeamGoalConcededRatioAway\"] = total_away_team_goals_conceded_per_season / len(total_matches_away_per_season)"
   ]
  },
  {
   "cell_type": "markdown",
   "metadata": {},
   "source": [
    "Preprocesando"
   ]
  },
  {
   "cell_type": "code",
   "execution_count": 66,
   "metadata": {},
   "outputs": [],
   "source": [
    "df_train = df.loc[df[\"status\"] == \"FINISHED\"].loc[:, df.columns.drop([\"awayGoalsHalfTime\", \"homeGoalsHalfTime\", \"season\", \"matchday\", \"status\", \"referees\", \"homeTeam\", \"awayTeam\"])]\n",
    "df_train.loc[df_train[\"homeGoalsFullTime\"] > df_train[\"awayGoalsFullTime\"], \"winner\"] = \"WINNER_HOME\"\n",
    "df_train.loc[df_train[\"homeGoalsFullTime\"] < df_train[\"awayGoalsFullTime\"], \"winner\"] = \"WINNER_AWAY\"\n",
    "df_train.loc[df_train[\"homeGoalsFullTime\"] == df_train[\"awayGoalsFullTime\"], \"winner\"] = \"DRAW\"\n",
    "df_train = df_train.drop(columns=[\"homeGoalsFullTime\", \"awayGoalsFullTime\"])\n",
    "df_test = df.loc[df[\"status\"] != \"FINISHED\"].loc[:, df.columns.drop([\"awayGoalsHalfTime\", \"homeGoalsHalfTime\", \"homeGoalsFullTime\", \"awayGoalsFullTime\", \"season\", \"matchday\", \"status\", \"referees\", \"awayTeam\", \"homeTeam\"])]"
   ]
  },
  {
   "cell_type": "code",
   "execution_count": 67,
   "metadata": {},
   "outputs": [],
   "source": [
    "y = df_train[\"winner\"]\n",
    "x = df_train.drop(columns=[\"winner\"])\n",
    "\n",
    "x_train, x_test, y_train, y_test = train_test_split(x, y, test_size=0.3, random_state=42)"
   ]
  },
  {
   "cell_type": "markdown",
   "metadata": {},
   "source": [
    "Entrenando el modelo"
   ]
  },
  {
   "cell_type": "code",
   "execution_count": 68,
   "metadata": {},
   "outputs": [
    {
     "name": "stderr",
     "output_type": "stream",
     "text": [
      "C:\\Users\\Edu\\AppData\\Local\\Packages\\PythonSoftwareFoundation.Python.3.11_qbz5n2kfra8p0\\LocalCache\\local-packages\\Python311\\site-packages\\sklearn\\linear_model\\_logistic.py:469: ConvergenceWarning: lbfgs failed to converge (status=1):\n",
      "STOP: TOTAL NO. of ITERATIONS REACHED LIMIT.\n",
      "\n",
      "Increase the number of iterations (max_iter) or scale the data as shown in:\n",
      "    https://scikit-learn.org/stable/modules/preprocessing.html\n",
      "Please also refer to the documentation for alternative solver options:\n",
      "    https://scikit-learn.org/stable/modules/linear_model.html#logistic-regression\n"
     ]
    }
   ],
   "source": [
    "clf = LogisticRegression()\n",
    "clf.fit(x_train, y_train)\n",
    "y_train_pred = clf.predict(x_train)\n",
    "y_test_pred = clf.predict(x_test)"
   ]
  },
  {
   "cell_type": "code",
   "execution_count": 69,
   "metadata": {},
   "outputs": [
    {
     "name": "stdout",
     "output_type": "stream",
     "text": [
      "Confusion Matrix Training:\n",
      " [[ 37  36  82]\n",
      " [ 24  97  56]\n",
      " [ 21  41 215]]\n",
      "Confusion Matrix Test:\n",
      " [[ 6 23 42]\n",
      " [10 41 18]\n",
      " [ 7 19 95]]\n"
     ]
    }
   ],
   "source": [
    "print(\"Confusion Matrix Training:\\n\", confusion_matrix(y_train, y_train_pred))\n",
    "print(\"Confusion Matrix Test:\\n\", confusion_matrix(y_test, y_test_pred))"
   ]
  },
  {
   "cell_type": "code",
   "execution_count": 70,
   "metadata": {},
   "outputs": [
    {
     "name": "stdout",
     "output_type": "stream",
     "text": [
      "Classification Report Training:\n",
      "               precision    recall  f1-score   support\n",
      "\n",
      "        DRAW       0.45      0.24      0.31       155\n",
      " WINNER_AWAY       0.56      0.55      0.55       177\n",
      " WINNER_HOME       0.61      0.78      0.68       277\n",
      "\n",
      "    accuracy                           0.57       609\n",
      "   macro avg       0.54      0.52      0.52       609\n",
      "weighted avg       0.55      0.57      0.55       609\n",
      "\n",
      "Classification Report Test:\n",
      "               precision    recall  f1-score   support\n",
      "\n",
      "        DRAW       0.26      0.08      0.13        71\n",
      " WINNER_AWAY       0.49      0.59      0.54        69\n",
      " WINNER_HOME       0.61      0.79      0.69       121\n",
      "\n",
      "    accuracy                           0.54       261\n",
      "   macro avg       0.46      0.49      0.45       261\n",
      "weighted avg       0.49      0.54      0.50       261\n",
      "\n"
     ]
    }
   ],
   "source": [
    "print(\"Classification Report Training:\\n\", classification_report(y_train, y_train_pred))\n",
    "print(\"Classification Report Test:\\n\", classification_report(y_test, y_test_pred))"
   ]
  },
  {
   "cell_type": "code",
   "execution_count": 71,
   "metadata": {},
   "outputs": [],
   "source": [
    "y_test_prediction = clf.predict(df_test)"
   ]
  },
  {
   "cell_type": "code",
   "execution_count": 72,
   "metadata": {},
   "outputs": [],
   "source": [
    "home_teams_test = df.loc[df[\"status\"] != \"FINISHED\"][\"homeTeam\"]\n",
    "away_teams_test = df.loc[df[\"status\"] != \"FINISHED\"][\"awayTeam\"]\n",
    "\n",
    "home_teams_train = df.loc[df[\"status\"] == \"FINISHED\"][\"homeTeam\"]\n",
    "away_teams_train = df.loc[df[\"status\"] == \"FINISHED\"][\"awayTeam\"]\n",
    "\n",
    "overview_test = pd.DataFrame()\n",
    "overview_test[\"homeTeam\"] = home_teams_test\n",
    "overview_test[\"awayTeam\"] = away_teams_test\n",
    "overview_test[\"winner\"] = y_test_prediction"
   ]
  },
  {
   "cell_type": "markdown",
   "metadata": {},
   "source": [
    "Guardando el modelo"
   ]
  },
  {
   "cell_type": "code",
   "execution_count": 73,
   "metadata": {},
   "outputs": [],
   "source": [
    "with open('modelo.clf', 'wb') as file:\n",
    "    pickle.dump(clf, file)"
   ]
  }
 ],
 "metadata": {
  "kernelspec": {
   "display_name": "Python 3",
   "language": "python",
   "name": "python3"
  },
  "language_info": {
   "codemirror_mode": {
    "name": "ipython",
    "version": 3
   },
   "file_extension": ".py",
   "mimetype": "text/x-python",
   "name": "python",
   "nbconvert_exporter": "python",
   "pygments_lexer": "ipython3",
   "version": "3.11.9"
  }
 },
 "nbformat": 4,
 "nbformat_minor": 2
}
